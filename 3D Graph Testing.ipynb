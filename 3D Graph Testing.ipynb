{
 "cells": [
  {
   "cell_type": "code",
   "execution_count": null,
   "metadata": {},
   "outputs": [],
   "source": [
    "import numpy as np\n",
    "import matplotlib.pyplot as plt\n",
    "import mpl_toolkits.mplot3d.axes3d as p3\n",
    "import matplotlib.animation as animation\n",
    "import sys\n",
    "from datetime import datetime"
   ]
  },
  {
   "cell_type": "code",
   "execution_count": null,
   "metadata": {},
   "outputs": [],
   "source": [
    "def get_file_info(filename):\n",
    "    file_contents = \"\"\n",
    "    with open(filename) as f:\n",
    "        for x in f:\n",
    "            file_contents += x \n",
    "    return file_contents"
   ]
  },
  {
   "cell_type": "code",
   "execution_count": null,
   "metadata": {},
   "outputs": [],
   "source": []
  },
  {
   "cell_type": "code",
   "execution_count": null,
   "metadata": {},
   "outputs": [],
   "source": [
    "def read_positions(positions):\n",
    "    pos_list = positions.split(\"\\n\")\n",
    "    new_positions = []\n",
    "    for i in range(len(pos_list)):\n",
    "        if len(pos_list[i]) > 0:\n",
    "            curr = pos_list[i]\n",
    "            new_arr = []\n",
    "            new_arr.append(float(curr[1:curr.find(\",\")])) \n",
    "            new_str = curr[curr.find(\",\") + 1:]\n",
    "            new_arr.append(float(new_str[0:new_str.find(\",\")]))\n",
    "            new_arr.append(float(new_str[new_str.find(\",\") + 1:len(new_str)-1]))\n",
    "            new_positions.append(new_arr)\n",
    "    return new_positions"
   ]
  },
  {
   "cell_type": "code",
   "execution_count": null,
   "metadata": {},
   "outputs": [],
   "source": []
  },
  {
   "cell_type": "code",
   "execution_count": null,
   "metadata": {},
   "outputs": [],
   "source": []
  },
  {
   "cell_type": "code",
   "execution_count": null,
   "metadata": {},
   "outputs": [],
   "source": []
  },
  {
   "cell_type": "code",
   "execution_count": null,
   "metadata": {},
   "outputs": [],
   "source": [
    "def anim_helper(frame, plt, ax):\n",
    "    ax.clear()\n",
    "    ax.set_xlim3d([-10, 10])\n",
    "    ax.set_xlabel('X')\n",
    "\n",
    "    ax.set_ylim3d([-10, 10])\n",
    "    ax.set_ylabel('Y')\n",
    "\n",
    "    ax.set_zlim3d([-10, 10])\n",
    "    ax.set_zlabel('Z')\n",
    "\n",
    "    ax.set_title('3D Fluid')\n",
    "    print(frame)\n",
    "    # Provide starting angle for the view.\n",
    "    ax.view_init(25, 10)\n",
    "    locations = read_positions(get_file_info(\"d = 800, h = 0.8/floor \" + str(frame) + \".txt\"))\n",
    "    scatters = [ax.scatter(locations[i][0], locations[i][1], locations[i][2]) for i in range(len(locations))]\n",
    "    return scatters\n",
    "\n",
    "def create_animation(frames):\n",
    "    fig = plt.figure(figsize = (10,10))\n",
    "    ax = p3.Axes3D(fig)\n",
    "\n",
    "    # Setting the axes properties\n",
    "\n",
    "    ani = animation.FuncAnimation(fig, anim_helper, frames, fargs = [plt, ax],\n",
    "                                       interval=50, blit=False, repeat=True)\n",
    "\n",
    "    Writer = animation.writers['ffmpeg']\n",
    "    writer = Writer(fps=20, metadata=dict(artist='Me'), bitrate=-1, extra_args=['-vcodec', 'libx264'])\n",
    "    ani.save('fluid.mp4', writer=writer)\n",
    "\n",
    "    plt.show()\n",
    "    \n",
    "    "
   ]
  },
  {
   "cell_type": "code",
   "execution_count": null,
   "metadata": {},
   "outputs": [],
   "source": [
    "create_animation(200)"
   ]
  },
  {
   "cell_type": "code",
   "execution_count": null,
   "metadata": {},
   "outputs": [],
   "source": []
  }
 ],
 "metadata": {
  "kernelspec": {
   "display_name": "Python 3 (ipykernel)",
   "language": "python",
   "name": "python3"
  },
  "language_info": {
   "codemirror_mode": {
    "name": "ipython",
    "version": 3
   },
   "file_extension": ".py",
   "mimetype": "text/x-python",
   "name": "python",
   "nbconvert_exporter": "python",
   "pygments_lexer": "ipython3",
   "version": "3.9.7"
  }
 },
 "nbformat": 4,
 "nbformat_minor": 2
}
