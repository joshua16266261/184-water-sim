{
 "cells": [
  {
   "cell_type": "code",
   "execution_count": null,
   "metadata": {},
   "outputs": [],
   "source": [
    "import numpy as np\n",
    "import matplotlib.pyplot as plt\n",
    "import mpl_toolkits.mplot3d.axes3d as p3\n",
    "import matplotlib.animation as animation\n",
    "import sys\n",
    "from datetime import datetime\n",
    "import numpy as np"
   ]
  },
  {
   "cell_type": "code",
   "execution_count": null,
   "metadata": {},
   "outputs": [],
   "source": [
    "def get_file_info(filename):\n",
    "    file_contents = \"\"\n",
    "    with open(filename) as f:\n",
    "        for x in f:\n",
    "            file_contents += x \n",
    "    return file_contents"
   ]
  },
  {
   "cell_type": "code",
   "execution_count": null,
   "metadata": {},
   "outputs": [],
   "source": [
    "def read_positions(positions):\n",
    "    pos_list = positions.split(\"\\n\")\n",
    "    new_positions = []\n",
    "    for i in range(len(pos_list)):\n",
    "        if len(pos_list[i]) > 0:\n",
    "            curr = pos_list[i]\n",
    "            new_arr = []\n",
    "            new_arr.append(float(curr[1:curr.find(\",\")])) \n",
    "            new_str = curr[curr.find(\",\") + 1:]\n",
    "            new_arr.append(float(new_str[0:new_str.find(\",\")]))\n",
    "            new_arr.append(float(new_str[new_str.find(\",\") + 1:len(new_str)-1]))\n",
    "            new_positions.append(new_arr)\n",
    "    return np.array(new_positions)"
   ]
  },
  {
   "cell_type": "code",
   "execution_count": null,
   "metadata": {},
   "outputs": [],
   "source": [
    "def create_anim_helper(frame_skip, frame_start, folder):\n",
    "    def anim_helper(frame, plt, ax):\n",
    "        ax.clear()\n",
    "        ax.set_xlim3d([-10, 10])\n",
    "        ax.set_xlabel('X')\n",
    "\n",
    "        ax.set_ylim3d([-10, 10])\n",
    "        ax.set_ylabel('Y')\n",
    "\n",
    "        ax.set_zlim3d([-10, 10])\n",
    "        ax.set_zlabel('Z')\n",
    "\n",
    "        ax.set_title('3D Fluid')\n",
    "        print(frame * frame_skip + frame_start)\n",
    "        # Provide starting angle for the view.\n",
    "    #     ax.view_init(25, 10)\n",
    "        ax.view_init(0, 0)\n",
    "        locations = read_positions(get_file_info(folder + \"/floor \" + str(frame * frame_skip + frame_start) + \".txt\"))\n",
    "\n",
    "        locations = locations[idx]\n",
    "\n",
    "        scatters = [ax.plot(locations[i][0], locations[i][1], locations[i][2], 'co') for i in range(len(locations))]\n",
    "        return scatters\n",
    "    return anim_helper\n",
    "\n",
    "def create_animation(frames, fps, frame_skip=1, frame_start=0, folder='test', out_file='fluid'):\n",
    "    fig = plt.figure(figsize = (10,10))\n",
    "    ax = p3.Axes3D(fig)\n",
    "\n",
    "    # Setting the axes properties\n",
    "\n",
    "    ani = animation.FuncAnimation(fig, create_anim_helper(frame_skip, frame_start, folder), frames, fargs = [plt, ax],\n",
    "                                       interval=int(1000 / (fps / frame_skip)), blit=False, repeat=True)\n",
    "\n",
    "    Writer = animation.writers['ffmpeg']\n",
    "    writer = Writer(fps=int(fps / frame_skip), metadata=dict(artist='Me'), bitrate=-1, extra_args=['-vcodec', 'libx264'])\n",
    "    ani.save('{}/{}.mp4'.format(folder, out_file), writer=writer)\n",
    "\n",
    "    plt.show()\n",
    "    "
   ]
  },
  {
   "cell_type": "code",
   "execution_count": null,
   "metadata": {},
   "outputs": [],
   "source": [
    "idx = np.random.choice(40 ** 3, int(40 ** 2), replace=True)\n",
    "\n",
    "time = 3\n",
    "fps = 60\n",
    "frame_skip = int(fps / 10)\n",
    "\n",
    "create_animation(int(time * fps / frame_skip), fps, frame_skip=frame_skip, folder='xcode/Debug')"
   ]
  },
  {
   "cell_type": "code",
   "execution_count": null,
   "metadata": {},
   "outputs": [],
   "source": [
    "import subprocess"
   ]
  },
  {
   "cell_type": "code",
   "execution_count": null,
   "metadata": {},
   "outputs": [],
   "source": [
    "h = '0.15'\n",
    "q = '0.1'\n",
    "k = '0.001'\n",
    "c = '0.00075'\n",
    "vort = '0.0005'\n",
    "relax = '4000'\n",
    "out_file = 'h{}_q{}_k{}_c{}_vort{}_relax{}'.format(h, q, k, c, vort, relax)\n",
    "\n",
    "print(out_file)\n",
    "\n",
    "rc = subprocess.call(['./clothsim', '--h', h, '--q', q, '--k', k, '--c', c, '--vort', vort, '--relax', relax], stdout=subprocess.DEVNULL)\n",
    "\n",
    "if rc == 0:\n",
    "    idx = np.random.choice(40 ** 3, int(40 ** 2), replace=True)\n",
    "\n",
    "    time = 3\n",
    "    fps = 60\n",
    "    frame_skip = int(fps / 10)\n",
    "\n",
    "    create_animation(int(time * fps / frame_skip), fps, frame_skip=frame_skip, folder='.', out_file=out_file)"
   ]
  },
  {
   "cell_type": "code",
   "execution_count": null,
   "metadata": {},
   "outputs": [],
   "source": [
    "def tuning(time=7, fps=60, h_list=[0.15], q_list=[0.1], k_list=[0.001], c_list=[0.00075], vort_list=[0.0005], relax_list=[4000]):\n",
    "    time = str(time)\n",
    "    fps = str(fps)\n",
    "    for h in h_list:\n",
    "        h = str(h)\n",
    "        for q in q_list:\n",
    "            q = str(q)\n",
    "            for k in k_list:\n",
    "                k = str(k)\n",
    "                for c in c_list:\n",
    "                    c = str(c)\n",
    "                    for vort in vort_list:\n",
    "                        vort = str(vort)\n",
    "                        for relax in relax_list:\n",
    "                            relax = str(relax)\n",
    "                            out_file = 'h{}_q{}_k{}_c{}_vort{}_relax{}'.format(h, q, k, c, vort, relax)\n",
    "\n",
    "                            print(out_file)\n",
    "\n",
    "                            rc = subprocess.call(['./clothsim', '--h', h, '--q', q, '--k', k, '--c', c, '--vort', vort, '--relax', relax, '--time', time, '--fps', fps],\n",
    "                                                 stdout=subprocess.DEVNULL)\n",
    "\n",
    "                            if rc == 0:\n",
    "                                idx = np.random.choice(40 ** 3, int(40 ** 2), replace=True)\n",
    "                                frame_skip = int(fps / 10)\n",
    "                                create_animation(int(time * fps / frame_skip), fps, frame_skip=frame_skip, folder='.', out_file=out_file)"
   ]
  },
  {
   "cell_type": "code",
   "execution_count": null,
   "metadata": {},
   "outputs": [],
   "source": [
    "k_list = np.around(np.arange(0.001, 0.005 + 0.001, step=0.001), 3)\n",
    "c_list = np.around(np.arange(0.0002, 0.001 + 0.0002, step=0.0002), 4)\n",
    "vort_list = np.around(np.arange(0.0002, 0.001 + 0.0002, step=0.0002), 4)\n",
    "relax_list = np.around(np.arange(1000, 6000 + 1000, step=1000), 0)\n",
    "\n",
    "tuning(k_list=k_list, c_list=c_list, vort_list=vort_list, relax_list=relax_list)"
   ]
  },
  {
   "cell_type": "code",
   "execution_count": null,
   "metadata": {},
   "outputs": [],
   "source": []
  }
 ],
 "metadata": {
  "kernelspec": {
   "display_name": "Python 3 (ipykernel)",
   "language": "python",
   "name": "python3"
  },
  "language_info": {
   "codemirror_mode": {
    "name": "ipython",
    "version": 3
   },
   "file_extension": ".py",
   "mimetype": "text/x-python",
   "name": "python",
   "nbconvert_exporter": "python",
   "pygments_lexer": "ipython3",
   "version": "3.9.7"
  }
 },
 "nbformat": 4,
 "nbformat_minor": 2
}
